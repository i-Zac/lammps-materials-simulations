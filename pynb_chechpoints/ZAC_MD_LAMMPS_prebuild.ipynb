{
 "cells": [
  {
   "cell_type": "markdown",
   "metadata": {
    "id": "Z5LaF2dmIRi2"
   },
   "source": [
    "# RUNNING LAMMPS ON GOOGLE COLAB WITH GPU\n",
    "*Created by Ezugwu Isaac* @ejikeboniface042@gmail.com"
   ]
  },
  {
   "cell_type": "markdown",
   "metadata": {
    "id": "sPgkdFQZI73M"
   },
   "source": [
    "Activate GPU\n",
    "\n",
    "*Go to Edit > Notebook Settings > Hardware accelerator > GPU*\n"
   ]
  },
  {
   "cell_type": "markdown",
   "metadata": {
    "id": "epD-_nc1IWPc"
   },
   "source": [
    "Mount drive of google colab\n",
    "\n",
    "\n"
   ]
  },
  {
   "cell_type": "code",
   "execution_count": 5,
   "metadata": {
    "colab": {
     "base_uri": "https://localhost:8080/"
    },
    "executionInfo": {
     "elapsed": 2988,
     "status": "ok",
     "timestamp": 1658416629203,
     "user": {
      "displayName": "Ejike Boniface",
      "userId": "14281609128709060328"
     },
     "user_tz": 420
    },
    "id": "1M6OF_tgBegO",
    "outputId": "1468054d-f57e-4530-eca5-3ac70d90bf15"
   },
   "outputs": [
    {
     "name": "stdout",
     "output_type": "stream",
     "text": [
      "Drive already mounted at /content/drive; to attempt to forcibly remount, call drive.mount(\"/content/drive\", force_remount=True).\n"
     ]
    }
   ],
   "source": [
    "from google.colab import drive\n",
    "drive.mount('/content/drive')"
   ]
  },
  {
   "cell_type": "markdown",
   "metadata": {
    "id": "x_JDr2klKyTl"
   },
   "source": [
    "##Installing LAMMPS"
   ]
  },
  {
   "cell_type": "code",
   "execution_count": 6,
   "metadata": {
    "colab": {
     "base_uri": "https://localhost:8080/"
    },
    "executionInfo": {
     "elapsed": 3536,
     "status": "ok",
     "timestamp": 1658416638923,
     "user": {
      "displayName": "Ejike Boniface",
      "userId": "14281609128709060328"
     },
     "user_tz": 420
    },
    "id": "bRYoowVyC88X",
    "outputId": "ea5a050a-6012-4e17-901d-a6007337f7e4"
   },
   "outputs": [
    {
     "name": "stdout",
     "output_type": "stream",
     "text": [
      "Drive already mounted at /content/drive; to attempt to forcibly remount, call drive.mount(\"/content/drive\", force_remount=True).\n"
     ]
    }
   ],
   "source": [
    "from google.colab import drive\n",
    "drive.mount('/content/drive')"
   ]
  },
  {
   "cell_type": "markdown",
   "metadata": {
    "id": "5PdppMSyIeWL"
   },
   "source": [
    "Check System Specification"
   ]
  },
  {
   "cell_type": "code",
   "execution_count": null,
   "metadata": {
    "colab": {
     "base_uri": "https://localhost:8080/"
    },
    "executionInfo": {
     "elapsed": 46,
     "status": "ok",
     "timestamp": 1658416638925,
     "user": {
      "displayName": "Ejike Boniface",
      "userId": "14281609128709060328"
     },
     "user_tz": 420
    },
    "id": "IafSTCA2IFeU",
    "outputId": "ca28d1de-d9a1-4c04-ab71-833e6567921f"
   },
   "outputs": [],
   "source": [
    "%%bash\n",
    "#Default for free account: 1GPU and 2 CPU with 1TB HDD and 12GB RAM\n",
    "lscpu\n",
    "nvidia-smi"
   ]
  },
  {
   "cell_type": "markdown",
   "metadata": {
    "id": "j5hyp_F9Jeuk"
   },
   "source": [
    "Adding prebuild LAMMPS and openkim repository by [@anton gladky](https://launchpad.net/~gladky-anton/+archive/ubuntu/lammps)"
   ]
  },
  {
   "cell_type": "code",
   "execution_count": null,
   "metadata": {
    "colab": {
     "base_uri": "https://localhost:8080/"
    },
    "executionInfo": {
     "elapsed": 17352,
     "status": "ok",
     "timestamp": 1658416656237,
     "user": {
      "displayName": "Ejike Boniface",
      "userId": "14281609128709060328"
     },
     "user_tz": 420
    },
    "id": "TVHM0UkiCP8n",
    "outputId": "adb055d3-8e8d-4b25-9ec9-d059355d9611"
   },
   "outputs": [],
   "source": [
    "%%bash\n",
    "sudo add-apt-repository ppa:gladky-anton/lammps\n",
    "sudo add-apt-repository ppa:openkim/latest\n",
    "sudo apt update"
   ]
  },
  {
   "cell_type": "markdown",
   "metadata": {
    "id": "LQnh0vTuKWK8"
   },
   "source": [
    "Installing LAMMPS, DOC, DATA and OPENKIM MODELS"
   ]
  },
  {
   "cell_type": "code",
   "execution_count": null,
   "metadata": {
    "colab": {
     "base_uri": "https://localhost:8080/"
    },
    "executionInfo": {
     "elapsed": 37116,
     "status": "ok",
     "timestamp": 1658416693309,
     "user": {
      "displayName": "Ejike Boniface",
      "userId": "14281609128709060328"
     },
     "user_tz": 420
    },
    "id": "Ey5F_P7ECuaX",
    "outputId": "73880da4-7f53-4045-8168-d292536cf0b3"
   },
   "outputs": [],
   "source": [
    "%%bash\n",
    "sudo apt-get install lammps-stable lammps-stable-doc lammps-stable-data openkim-models"
   ]
  },
  {
   "cell_type": "markdown",
   "metadata": {
    "id": "zULfyd1rXTXB"
   },
   "source": [
    "##inputing files"
   ]
  },
  {
   "cell_type": "code",
   "execution_count": null,
   "metadata": {
    "colab": {
     "base_uri": "https://localhost:8080/"
    },
    "executionInfo": {
     "elapsed": 3303,
     "status": "ok",
     "timestamp": 1658419547195,
     "user": {
      "displayName": "Ejike Boniface",
      "userId": "14281609128709060328"
     },
     "user_tz": 420
    },
    "id": "ZYiLLpivXZqb",
    "outputId": "e677fd54-d150-4979-8491-b01aedf895d4"
   },
   "outputs": [],
   "source": [
    "!wget  https://www.ctcms.nist.gov/potentials/Download/1999--Liu-X-Y-Liu-C-L-Borucki-L-J--Al-Cu/2/al-cu-set.eam.alloy"
   ]
  },
  {
   "cell_type": "code",
   "execution_count": 38,
   "metadata": {
    "colab": {
     "base_uri": "https://localhost:8080/"
    },
    "executionInfo": {
     "elapsed": 628,
     "status": "ok",
     "timestamp": 1658422948943,
     "user": {
      "displayName": "Ejike Boniface",
      "userId": "14281609128709060328"
     },
     "user_tz": 420
    },
    "id": "ffhqzN2Zakfi",
    "outputId": "5285f52c-0ad3-4e9a-b1c8-1322b41a4637"
   },
   "outputs": [
    {
     "name": "stdout",
     "output_type": "stream",
     "text": [
      "Overwriting Al10Cu_Tensile.lmp\n"
     ]
    }
   ],
   "source": [
    "%%writefile Al10Cu_Tensile.lmp\n",
    "#-------Of course I shall document my tensile test of Al 10%wt Cu\n",
    "#-----Yami_Senpai {-_-} 20th Mar 2022!!!!!! \n",
    "\n",
    "# ------------------------ INITIATION -------------------------------- \n",
    "units metal \n",
    "dimension 3 \n",
    "boundary p p p \n",
    "atom_style atomic  \n",
    "# ----------------------- Geometry of Material ----------------------- \n",
    "lattice fcc 4.05 orient x 1 0 0 orient y 0 1 0 orient z 0 0 1\n",
    "region whole block 0 10 0 10 0 10 \n",
    "create_box 1 whole \n",
    "create_atoms 1 region whole\n",
    "# --------------------Potential function-------------------------------- \n",
    "pair_style eam/alloy\n",
    "pair_coeff * * al-cu-set.eam.alloy Al\n",
    "#--------------------Equilibration-------------------------------------- \n",
    "compute csym all centro/atom fcc \n",
    "compute peratom all pe/atom \n",
    "reset_timestep 0 \n",
    "timestep 0.001 \n",
    "velocity all create 300 12345 mom yes rot no \n",
    "fix 1 all npt temp 300 300 1 iso 0 0 1 drag 1 \n",
    "minimize 1.0e-4 1.0e-6 100 1000 \n",
    "thermo 1000 \n",
    "thermo_style custom step lx ly lz press pxx pyy pzz pe temp \n",
    "run 20000 \n",
    "unfix 1 \n",
    "dump ten all custom 500 dump.ten.* x y z\n",
    "variable tmp equal \"lx\" \n",
    "variable L0 equal ${tmp} \n",
    "print \"Initial Length, L0: ${L0}\" \n",
    "#---------------------Stress-Strain Calculation---------------- \n",
    "reset_timestep 0 \n",
    "fix 1 all npt temp 300 300 1 y 0 0 1 z 0 0 1 drag 1 \n",
    "variable srate equal 1.0e10 \n",
    "variable srate1 equal \"v_srate / 1.0e12\" \n",
    "fix 2 all deform 1 x erate ${srate1} units box remap x \n",
    "variable strain equal \"(lx - v_L0)/v_L0\" \n",
    "variable p1 equal \"v_strain\" \n",
    "variable p2 equal \"-pxx/10000\" \n",
    "variable p3 equal \"-pyy/10000\" \n",
    "variable p4 equal \"-pzz/10000\" \n",
    "fix def1 all print 100 \"${p1} ${p2} ${p3} ${p4}\" file Al10CuOutput.txt screen no \n",
    "dump 1 all custom 250 *.dump type x y z \n",
    "thermo 1000 \n",
    "thermo_style custom step v_strain temp v_p2 v_p3 v_p4 ke pe press \n",
    "run 20000 \n",
    "#---------------------simulation completely done------------ \n",
    "print \"All done Zac!\""
   ]
  },
  {
   "cell_type": "markdown",
   "metadata": {
    "id": "QzMgSoL-KeTN"
   },
   "source": [
    "##Run your lammps script"
   ]
  },
  {
   "cell_type": "code",
   "execution_count": 39,
   "metadata": {
    "colab": {
     "base_uri": "https://localhost:8080/"
    },
    "executionInfo": {
     "elapsed": 31131,
     "status": "ok",
     "timestamp": 1658423006726,
     "user": {
      "displayName": "Ejike Boniface",
      "userId": "14281609128709060328"
     },
     "user_tz": 420
    },
    "id": "OHETbiYpDh2N",
    "outputId": "f904da32-a210-4a04-8003-3e14338e288b"
   },
   "outputs": [
    {
     "name": "stdout",
     "output_type": "stream",
     "text": [
      "LAMMPS (3 Mar 2020)\n",
      "OMP_NUM_THREADS environment is not set. Defaulting to 1 thread. (src/comm.cpp:94)\n",
      "  using 1 OpenMP thread(s) per MPI task\n",
      "Lattice spacing in x,y,z = 4.05 4.05 4.05\n",
      "Created orthogonal box = (0 0 0) to (40.5 40.5 40.5)\n",
      "  1 by 1 by 1 MPI processor grid\n",
      "Created 4000 atoms\n",
      "  create_atoms CPU = 0.000495999 secs\n",
      "WARNING: Using 'neigh_modify every 1 delay 0 check yes' setting during minimization (src/min.cpp:190)\n",
      "\n",
      "--------------------------------------------------------------------------\n",
      "- Using acceleration for eam/alloy:\n",
      "-  with 1 proc(s) per device.\n",
      "-  with 1 thread(s) per proc.\n",
      "-  with OpenCL Parameters for: GENERIC\n",
      "--------------------------------------------------------------------------\n",
      "Device 0: Tesla T4, 40 CUs, 15 GB, 1.6 GHZ (Mixed Precision)\n",
      "--------------------------------------------------------------------------\n",
      "\n",
      "Initializing Device and compiling on process 0...Done.\n",
      "Initializing Device 0 on core 0...Done.\n",
      "\n",
      "Neighbor list info ...\n",
      "  update every 1 steps, delay 0 steps, check yes\n",
      "  max neighbors/atom: 2000, page size: 100000\n",
      "  master list distance cutoff = 7.68732\n",
      "  ghost atom cutoff = 7.68732\n",
      "  binsize = 3.84366, bins = 11 11 11\n",
      "  2 neighbor lists, perpetual/occasional/extra = 1 1 0\n",
      "  (1) pair eam/alloy/gpu, perpetual\n",
      "      attributes: full, newton off\n",
      "      pair build: full/bin/atomonly\n",
      "      stencil: full/bin/3d\n",
      "      bin: standard\n",
      "  (2) compute centro/atom, occasional, copy from (1)\n",
      "      attributes: full, newton off\n",
      "      pair build: copy\n",
      "      stencil: none\n",
      "      bin: none\n",
      "Setting up cg style minimization ...\n",
      "  Unit style    : metal\n",
      "  Current step  : 0\n",
      "Per MPI rank memory allocation (min/avg/max) = 7.698 | 7.698 | 7.698 Mbytes\n",
      "Step Temp E_pair E_mol TotEng Press Volume \n",
      "       0          300   -13437.117            0   -13282.043    -8010.135    66430.125 \n",
      "       1          300   -13437.117            0   -13282.043    -8010.135    66430.125 \n",
      "Loop time of 0.00686658 on 1 procs for 1 steps with 4000 atoms\n",
      "\n",
      "100.0% CPU use with 1 MPI tasks x 1 OpenMP threads\n",
      "\n",
      "Minimization stats:\n",
      "  Stopping criterion = linesearch alpha is zero\n",
      "  Energy initial, next-to-last, final = \n",
      "        -13437.1166414     -13437.1166414     -13437.1166414\n",
      "  Force two-norm initial, final = 0.000493947 0.000493947\n",
      "  Force max component initial, final = 1.00508e-05 1.00508e-05\n",
      "  Final line search alpha, max atom move = 0.03125 3.14089e-07\n",
      "  Iterations, force evaluations = 1 9\n",
      "\n",
      "MPI task timing breakdown:\n",
      "Section |  min time  |  avg time  |  max time  |%varavg| %total\n",
      "---------------------------------------------------------------\n",
      "Pair    | 0.0060327  | 0.0060327  | 0.0060327  |   0.0 | 87.86\n",
      "Neigh   | 0          | 0          | 0          |   0.0 |  0.00\n",
      "Comm    | 0.0002992  | 0.0002992  | 0.0002992  |   0.0 |  4.36\n",
      "Output  | 0          | 0          | 0          |   0.0 |  0.00\n",
      "Modify  | 9.07e-07   | 9.07e-07   | 9.07e-07   |   0.0 |  0.01\n",
      "Other   |            | 0.0005337  |            |       |  7.77\n",
      "\n",
      "Nlocal:    4000 ave 4000 max 4000 min\n",
      "Histogram: 1 0 0 0 0 0 0 0 0 0\n",
      "Nghost:    5841 ave 5841 max 5841 min\n",
      "Histogram: 1 0 0 0 0 0 0 0 0 0\n",
      "Neighs:    0 ave 0 max 0 min\n",
      "Histogram: 1 0 0 0 0 0 0 0 0 0\n",
      "FullNghs:  536000 ave 536000 max 536000 min\n",
      "Histogram: 1 0 0 0 0 0 0 0 0 0\n",
      "\n",
      "Total # of neighbors = 536000\n",
      "Ave neighs/atom = 134\n",
      "Neighbor list builds = 0\n",
      "Dangerous builds = 0\n",
      "\n",
      "\n",
      "---------------------------------------------------------------------\n",
      "      Device Time Info (average): \n",
      "---------------------------------------------------------------------\n",
      "Data Transfer:   0.0012 s.\n",
      "Data Cast/Pack:  0.0006 s.\n",
      "Neighbor copy:   0.0014 s.\n",
      "Neighbor unpack: 0.0001 s.\n",
      "Force calc:      0.0041 s.\n",
      "Device Overhead: 0.0008 s.\n",
      "Average split:   1.0000.\n",
      "Threads / atom:  1.\n",
      "Max Mem / Proc:  11.86 MB.\n",
      "CPU Driver_Time: 0.0008 s.\n",
      "CPU Idle_Time:   0.0026 s.\n",
      "---------------------------------------------------------------------\n",
      "\n",
      "\n",
      "--------------------------------------------------------------------------\n",
      "- Using acceleration for eam/alloy:\n",
      "-  with 1 proc(s) per device.\n",
      "-  with 1 thread(s) per proc.\n",
      "-  with OpenCL Parameters for: GENERIC\n",
      "--------------------------------------------------------------------------\n",
      "Device 0: Tesla T4, 40 CUs, 15 GB, 1.6 GHZ (Mixed Precision)\n",
      "--------------------------------------------------------------------------\n",
      "\n",
      "Initializing Device and compiling on process 0...Done.\n",
      "Initializing Device 0 on core 0...Done.\n",
      "\n",
      "Setting up Verlet run ...\n",
      "  Unit style    : metal\n",
      "  Current step  : 1\n",
      "  Time step     : 0.001\n",
      "Per MPI rank memory allocation (min/avg/max) = 6.573 | 6.573 | 6.573 Mbytes\n",
      "Step Lx Ly Lz Press Pxx Pyy Pzz PotEng Temp \n",
      "       1         40.5         40.5         40.5    -8010.135   -8059.2705   -7971.5964    -7999.538   -13437.117          300 \n",
      "    1000    40.425552    40.425552    40.425552   -505.11317   -481.67114   -463.97157    -569.6968   -13361.377    171.44111 \n",
      "    2000    40.424568    40.424568    40.424568    89.043405    125.99253   -3.9476645    145.08535   -13350.924    173.90483 \n",
      "    3000    40.430323    40.430323    40.430323    26.022761   -8.1169716    19.686753    66.498502   -13346.884    189.12249 \n",
      "    4000    40.436755    40.436755    40.436755    105.27365    344.54902   -99.974383    71.246304    -13340.29    199.32283 \n",
      "    5000    40.446461    40.446461    40.446461    63.440259    113.72546    54.744001     21.85132   -13332.549     207.0087 \n",
      "    6000    40.462051    40.462051    40.462051   -435.00975   -447.75154   -442.89206   -414.38564   -13326.461    217.33889 \n",
      "    7000    40.464919    40.464919    40.464919   -142.56498   -279.33794   -50.898423   -97.458579   -13322.204    230.40314 \n",
      "    8000    40.469869    40.469869    40.469869     10.98797    126.73409    157.01686   -250.78704   -13316.355    239.33483 \n",
      "    9000    40.477452    40.477452    40.477452    -45.61499   -38.842659   -148.57342    50.571108   -13309.485    245.04046 \n",
      "   10000    40.483001    40.483001    40.483001   -51.458404   -17.214323    98.045453   -235.20634   -13306.581    256.93997 \n",
      "   11000     40.48656     40.48656     40.48656    154.76449    124.29223    192.13586    147.86538   -13301.239    262.52114 \n",
      "   12000    40.490544    40.490544    40.490544    165.94203     29.47189    262.60003    205.75418   -13299.853    274.02973 \n",
      "   13000    40.493201    40.493201    40.493201    195.42134    350.50609    78.242929    157.51502   -13295.585    278.21156 \n",
      "   14000    40.493378    40.493378    40.493378    331.39736     288.3826    283.37517    422.43431   -13293.295    284.44622 \n",
      "   15000    40.500925    40.500925    40.500925      70.0968    257.19701    145.16493   -192.07154   -13291.001    288.94255 \n",
      "   16000    40.506818    40.506818    40.506818    137.31905    395.40497   -19.453731    36.005921   -13285.792    286.10184 \n",
      "   17000    40.511068    40.511068    40.511068   -300.85743   -406.56556   -256.34185   -239.66487   -13287.481    295.02708 \n",
      "   18000    40.505453    40.505453    40.505453    265.88229   -53.269922    272.10584    578.81095   -13285.705    295.78364 \n",
      "   19000    40.506813    40.506813    40.506813    163.92756    227.38322   -70.060236    334.45971   -13286.336     299.8196 \n",
      "   20000    40.508278    40.508278    40.508278     77.06382    102.80634    64.673671    63.711452    -13286.81    302.26867 \n",
      "   20001    40.508062    40.508062    40.508062    89.532708    128.00468    63.834439    76.759005   -13286.789    302.22863 \n",
      "Loop time of 13.075 on 1 procs for 20000 steps with 4000 atoms\n",
      "\n",
      "Performance: 132.161 ns/day, 0.182 hours/ns, 1529.638 timesteps/s\n",
      "99.2% CPU use with 1 MPI tasks x 1 OpenMP threads\n",
      "\n",
      "MPI task timing breakdown:\n",
      "Section |  min time  |  avg time  |  max time  |%varavg| %total\n",
      "---------------------------------------------------------------\n",
      "Pair    | 9.1041     | 9.1041     | 9.1041     |   0.0 | 69.63\n",
      "Neigh   | 0          | 0          | 0          |   0.0 |  0.00\n",
      "Comm    | 0.59234    | 0.59234    | 0.59234    |   0.0 |  4.53\n",
      "Output  | 0.0018262  | 0.0018262  | 0.0018262  |   0.0 |  0.01\n",
      "Modify  | 2.9606     | 2.9606     | 2.9606     |   0.0 | 22.64\n",
      "Other   |            | 0.4161     |            |       |  3.18\n",
      "\n",
      "Nlocal:    4000 ave 4000 max 4000 min\n",
      "Histogram: 1 0 0 0 0 0 0 0 0 0\n",
      "Nghost:    5841 ave 5841 max 5841 min\n",
      "Histogram: 1 0 0 0 0 0 0 0 0 0\n",
      "Neighs:    0 ave 0 max 0 min\n",
      "Histogram: 1 0 0 0 0 0 0 0 0 0\n",
      "FullNghs:  536000 ave 536000 max 536000 min\n",
      "Histogram: 1 0 0 0 0 0 0 0 0 0\n",
      "\n",
      "Total # of neighbors = 536000\n",
      "Ave neighs/atom = 134\n",
      "Neighbor list builds = 0\n",
      "Dangerous builds = 0\n",
      "Initial Length, L0: 40.5080616058172\n",
      "\n",
      "\n",
      "---------------------------------------------------------------------\n",
      "      Device Time Info (average): \n",
      "---------------------------------------------------------------------\n",
      "Data Transfer:   2.3057 s.\n",
      "Data Cast/Pack:  1.4784 s.\n",
      "Neighbor copy:   0.0012 s.\n",
      "Neighbor unpack: 0.0001 s.\n",
      "Force calc:      4.2207 s.\n",
      "Device Overhead: 0.9971 s.\n",
      "Average split:   1.0000.\n",
      "Threads / atom:  1.\n",
      "Max Mem / Proc:  11.72 MB.\n",
      "CPU Driver_Time: 1.0406 s.\n",
      "CPU Idle_Time:   2.8186 s.\n",
      "---------------------------------------------------------------------\n",
      "\n",
      "\n",
      "--------------------------------------------------------------------------\n",
      "- Using acceleration for eam/alloy:\n",
      "-  with 1 proc(s) per device.\n",
      "-  with 1 thread(s) per proc.\n",
      "-  with OpenCL Parameters for: GENERIC\n",
      "--------------------------------------------------------------------------\n",
      "Device 0: Tesla T4, 40 CUs, 15 GB, 1.6 GHZ (Mixed Precision)\n",
      "--------------------------------------------------------------------------\n",
      "\n",
      "Initializing Device and compiling on process 0...Done.\n",
      "Initializing Device 0 on core 0...Done.\n",
      "\n",
      "Setting up Verlet run ...\n",
      "  Unit style    : metal\n",
      "  Current step  : 0\n",
      "  Time step     : 0.001\n",
      "Per MPI rank memory allocation (min/avg/max) = 9.287 | 9.287 | 9.287 Mbytes\n",
      "Step v_strain Temp v_p2 v_p3 v_p4 KinEng PotEng Press \n",
      "       0 -1.7540774e-16    302.22863 -0.012800356 -0.0063834241 -0.0076757288     156.2254   -13286.789    89.531695 \n",
      "    1000         0.01    298.15539   0.67573731 0.0074721529 -0.025838497     154.1199   -13282.126   -2191.2366 \n",
      "    2000         0.02    295.38891    1.4156109 -0.0084695828 -0.053736679    152.68987   -13274.985   -4511.3489 \n",
      "    3000         0.03    299.00649    2.1874175 -0.014252625 -0.008454556    154.55984   -13267.703   -7215.7009 \n",
      "    4000         0.04    301.93351    3.0508239 0.0034758335 -0.033567106    156.07285   -13256.496   -10069.109 \n",
      "    5000         0.05    299.98887    3.8512392 -0.030662988  0.001954069    155.06764   -13239.045   -12741.768 \n",
      "    6000         0.06    291.90283    4.6544054 -0.032292643 -0.021505086    150.88788   -13214.915   -15335.359 \n",
      "    7000         0.07    297.51734    5.4841412  0.008739198  0.012737657    153.79008   -13194.419    -18352.06 \n",
      "    8000         0.08    292.97038    6.1810497 0.0086880788 -0.010351155     151.4397   -13165.332   -20597.955 \n",
      "    9000         0.09    296.16761    6.8238633  0.013326378  0.034747116    153.09239   -13137.166   -22906.456 \n",
      "   10000          0.1    295.21204    7.2350454 -0.031895006 -0.093445247    152.59845   -13104.616   -23699.017 \n",
      "   11000         0.11    293.93421     6.857309  0.047120695   0.02933819    151.93792    -13070.86   -23112.559 \n",
      "   12000         0.12    373.70786    2.8284657  0.044508097  -0.11445381    193.17382   -13102.263   -9195.0667 \n",
      "   13000         0.13    363.87709    2.5795811  -0.18352944   0.05163246    188.09219   -13102.403   -8158.9472 \n",
      "   14000         0.14    351.74981    2.7215014   -0.1645614  -0.02454354    181.82346   -13099.723   -8441.3215 \n",
      "   15000         0.15    344.24155      2.73603 0.0043300879 -0.009131818    177.94235   -13097.052   -9104.0943 \n",
      "   16000         0.16     344.4612    2.5949717  0.022792735  -0.15947318    178.05589   -13097.684   -8194.3041 \n",
      "   17000         0.17    340.45863    2.2799527  0.074978423  0.059758622    175.98692   -13096.316   -8048.9658 \n",
      "   18000         0.18    343.17599    2.0379309  0.044783947 -0.034050883    177.39155   -13099.616     -6828.88 \n",
      "   19000         0.19    343.73345    1.6935649 -0.0040915501  -0.04806352    177.67971    -13103.13    -5471.366 \n",
      "   20000          0.2    340.68505    1.4155848 0.0026898942  0.058908522    176.10396   -13106.369    -4923.944 \n",
      "Loop time of 16.2635 on 1 procs for 20000 steps with 4000 atoms\n",
      "\n",
      "Performance: 106.250 ns/day, 0.226 hours/ns, 1229.746 timesteps/s\n",
      "99.4% CPU use with 1 MPI tasks x 1 OpenMP threads\n",
      "\n",
      "MPI task timing breakdown:\n",
      "Section |  min time  |  avg time  |  max time  |%varavg| %total\n",
      "---------------------------------------------------------------\n",
      "Pair    | 9.0414     | 9.0414     | 9.0414     |   0.0 | 55.59\n",
      "Neigh   | 1.698      | 1.698      | 1.698      |   0.0 | 10.44\n",
      "Comm    | 0.58783    | 0.58783    | 0.58783    |   0.0 |  3.61\n",
      "Output  | 0.71426    | 0.71426    | 0.71426    |   0.0 |  4.39\n",
      "Modify  | 3.8419     | 3.8419     | 3.8419     |   0.0 | 23.62\n",
      "Other   |            | 0.3802     |            |       |  2.34\n",
      "\n",
      "Nlocal:    4000 ave 4000 max 4000 min\n",
      "Histogram: 1 0 0 0 0 0 0 0 0 0\n",
      "Nghost:    6464 ave 6464 max 6464 min\n",
      "Histogram: 1 0 0 0 0 0 0 0 0 0\n",
      "Neighs:    0 ave 0 max 0 min\n",
      "Histogram: 1 0 0 0 0 0 0 0 0 0\n",
      "FullNghs:  456676 ave 456676 max 456676 min\n",
      "Histogram: 1 0 0 0 0 0 0 0 0 0\n",
      "\n",
      "Total # of neighbors = 456676\n",
      "Ave neighs/atom = 114.169\n",
      "Neighbor list builds = 105\n",
      "Dangerous builds = 0\n",
      "All done Zac!\n",
      "\n",
      "\n",
      "---------------------------------------------------------------------\n",
      "      Device Time Info (average): \n",
      "---------------------------------------------------------------------\n",
      "Data Transfer:   2.9251 s.\n",
      "Data Cast/Pack:  1.4331 s.\n",
      "Neighbor copy:   0.0976 s.\n",
      "Neighbor unpack: 0.0041 s.\n",
      "Force calc:      4.1798 s.\n",
      "Device Overhead: 1.0533 s.\n",
      "Average split:   1.0000.\n",
      "Threads / atom:  1.\n",
      "Max Mem / Proc:  11.72 MB.\n",
      "CPU Driver_Time: 1.0961 s.\n",
      "CPU Idle_Time:   2.8065 s.\n",
      "---------------------------------------------------------------------\n",
      "\n",
      "\n",
      "Please see the log.cite file for references relevant to this simulation\n",
      "\n",
      "Total wall time: 0:00:30\n"
     ]
    }
   ],
   "source": [
    "%%bash\n",
    "mpirun --allow-run-as-root -n 1 lmp_stable -sf gpu -pk gpu 1 neigh no newton off -in Al10Cu_Tensile.lmp"
   ]
  },
  {
   "cell_type": "code",
   "execution_count": 13,
   "metadata": {
    "executionInfo": {
     "elapsed": 15,
     "status": "ok",
     "timestamp": 1658416815268,
     "user": {
      "displayName": "Ejike Boniface",
      "userId": "14281609128709060328"
     },
     "user_tz": 420
    },
    "id": "rBXvjyoZllNZ"
   },
   "outputs": [],
   "source": []
  }
 ],
 "metadata": {
  "accelerator": "GPU",
  "colab": {
   "collapsed_sections": [
    "x_JDr2klKyTl",
    "zULfyd1rXTXB"
   ],
   "name": "ZAC_MD_LAMMPS_prebuild.ipynb",
   "provenance": [
    {
     "file_id": "1ubRUt04IQwU82cuueldIX_R1XSVwdLrh",
     "timestamp": 1658193899991
    }
   ]
  },
  "gpuClass": "standard",
  "kernelspec": {
   "display_name": "Python 3",
   "name": "python3"
  },
  "language_info": {
   "name": "python"
  }
 },
 "nbformat": 4,
 "nbformat_minor": 0
}
